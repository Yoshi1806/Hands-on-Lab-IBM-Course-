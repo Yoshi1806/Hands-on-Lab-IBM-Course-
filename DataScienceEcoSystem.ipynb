{
 "cells": [
  {
   "cell_type": "markdown",
   "id": "7bd25466",
   "metadata": {},
   "source": [
    "# Data Science Tools and Ecosystem"
   ]
  },
  {
   "cell_type": "markdown",
   "id": "fc9aa2ba",
   "metadata": {},
   "source": [
    "### this is an introductory, In this notebook, Data Science Tools and Ecosystem are summarized."
   ]
  },
  {
   "cell_type": "markdown",
   "id": "8ae869a2",
   "metadata": {},
   "source": [
    "### Some of the popular languages that Data Scientists use are:\n",
    "1. Python\n",
    "2. R Programming\n",
    "3. Java\n",
    "4. SQL"
   ]
  },
  {
   "cell_type": "markdown",
   "id": "8b2f2f74",
   "metadata": {},
   "source": [
    "### Some of the commonly used libraries used by Data Scientists include:\n",
    "1. pandas (Python)\n",
    "2. ggplot (R)\n",
    "3. matplotlib(Python)\n",
    "4. seaborn (Python)\n",
    "5. scikit-learn (Python)"
   ]
  },
  {
   "cell_type": "markdown",
   "id": "f9a0eb6c",
   "metadata": {},
   "source": [
    "## Tables\n",
    "| Data Science Tools | \n",
    "| -------------|\n",
    "|Python|\n",
    "|Tensorflow|\n",
    "|Scikit-learn|\n",
    "|Apache Spark|\n",
    "|Hadoop|"
   ]
  },
  {
   "cell_type": "markdown",
   "id": "69cc1c85",
   "metadata": {},
   "source": [
    "### Below are a few examples of evaluating arithmetic expressions in Python\n",
    "\n",
    "* when we want a sum up, use +\n",
    "* when we want to mutiply, use *\n",
    "* when we want to divide, use /\n",
    "* when we want to subtract, use -"
   ]
  },
  {
   "cell_type": "code",
   "execution_count": 1,
   "id": "97bac18d",
   "metadata": {},
   "outputs": [
    {
     "data": {
      "text/plain": [
       "17"
      ]
     },
     "execution_count": 1,
     "metadata": {},
     "output_type": "execute_result"
    }
   ],
   "source": [
    "#code to mutiply answers\n",
    "#This a simple arithmetic expression to mutiply then add integers\n",
    "(3*4)+5"
   ]
  },
  {
   "cell_type": "code",
   "execution_count": 2,
   "id": "66a38de6",
   "metadata": {},
   "outputs": [
    {
     "data": {
      "text/plain": [
       "3.3333333333333335"
      ]
     },
     "execution_count": 2,
     "metadata": {},
     "output_type": "execute_result"
    }
   ],
   "source": [
    "#code to mutiply answers\n",
    "#This will convert 200 minutes to hours by diving by 60\n",
    "\n",
    "200/60"
   ]
  },
  {
   "cell_type": "markdown",
   "id": "f0390022",
   "metadata": {},
   "source": [
    "**Objectives:**\n",
    "* List popular languages for Data Science\n",
    "* Make an example about arithmetic expression in Python\n",
    "* Make an list Some of the commonly used libraries used by Data Scientists include:"
   ]
  },
  {
   "cell_type": "markdown",
   "id": "016f59ba",
   "metadata": {},
   "source": [
    "## Author\n",
    "Yosh Verheyen"
   ]
  }
 ],
 "metadata": {
  "kernelspec": {
   "display_name": "Python 3 (ipykernel)",
   "language": "python",
   "name": "python3"
  },
  "language_info": {
   "codemirror_mode": {
    "name": "ipython",
    "version": 3
   },
   "file_extension": ".py",
   "mimetype": "text/x-python",
   "name": "python",
   "nbconvert_exporter": "python",
   "pygments_lexer": "ipython3",
   "version": "3.10.9"
  }
 },
 "nbformat": 4,
 "nbformat_minor": 5
}
